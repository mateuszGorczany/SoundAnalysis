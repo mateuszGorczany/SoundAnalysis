{
 "cells": [
  {
   "cell_type": "code",
   "execution_count": 1,
   "id": "091bea2e-fa94-4ee7-98f6-09712ba610a3",
   "metadata": {},
   "outputs": [],
   "source": [
    "# Application can be executed in the terminal, script name: \"solution1.py\""
   ]
  },
  {
   "cell_type": "code",
   "execution_count": 2,
   "id": "068f06d1-0756-4917-86a6-11eaf8ed9156",
   "metadata": {},
   "outputs": [],
   "source": [
    "import glob\n",
    "import speech_recognition as sr\n",
    "import csv\n",
    "from typing import List, Dict\n",
    "from pprint import pprint"
   ]
  },
  {
   "cell_type": "code",
   "execution_count": 3,
   "id": "71a8e73b-0299-4d57-8d2b-508faacb0ab3",
   "metadata": {},
   "outputs": [],
   "source": [
    "recognizer = sr.Recognizer()"
   ]
  },
  {
   "cell_type": "code",
   "execution_count": 4,
   "id": "42c52413-985f-46d8-97bd-a276ce1a5dc7",
   "metadata": {},
   "outputs": [],
   "source": [
    "def get_files(directory: str) -> List[str]:\n",
    "    return glob.glob(directory + \"/*.wav\")"
   ]
  },
  {
   "cell_type": "code",
   "execution_count": 5,
   "id": "c792a941-ad2c-4392-bbce-15078310fde8",
   "metadata": {},
   "outputs": [],
   "source": [
    "def recognize(file: str) -> str:\n",
    "    audio = sr.AudioFile(file)\n",
    "    with audio as source:\n",
    "        audio = recognizer.record(source)\n",
    "    \n",
    "    return recognizer.recognize_google(audio)"
   ]
  },
  {
   "cell_type": "code",
   "execution_count": 6,
   "id": "54bf34cd-2c3c-492a-a392-bd0c82cb2054",
   "metadata": {},
   "outputs": [],
   "source": [
    "results = {}\n",
    "for file in get_files(\"test_wavs\"):\n",
    "    fname = file.split(\"/\")[-1]\n",
    "    results[fname] = recognize(file) \n"
   ]
  },
  {
   "cell_type": "code",
   "execution_count": 7,
   "id": "9252af74-c3fe-4a7f-b029-0a47c2cd343c",
   "metadata": {},
   "outputs": [],
   "source": [
    "def save_results(results: Dict[str, str]) -> None:\n",
    "    with open(\"results.csv\", \"w\") as file:\n",
    "        file.write(\"filename;result\\n\")\n",
    "        for key, value in results.items():\n",
    "            file.write(f\"{key};{value}\\n\")\n",
    "            "
   ]
  },
  {
   "cell_type": "code",
   "execution_count": 8,
   "id": "fe36b9c5-18eb-4abc-95b0-f44f161f061e",
   "metadata": {},
   "outputs": [
    {
     "name": "stdout",
     "output_type": "stream",
     "text": [
      "{'125-121124-0082.wav': 'no said the banker I have appeared rather ridiculous '\n",
      "                        'instead of fair benedetto so I remain in the '\n",
      "                        \"background you're wrong how are you to blame in that \"\n",
      "                        'affair',\n",
      " '2277-149874-0018.wav': 'it was under such auspicious circumstances that she '\n",
      "                         'started out this morning to look for work',\n",
      " '250-142276-0014.wav': 'too plainly for beauty if his features had been less '\n",
      "                        'finally cut as it was they had a Grace if not a '\n",
      "                        'communist of their own the face was in Repose but it '\n",
      "                        'was rather rest after weariness',\n",
      " '254-127705-0032.wav': 'to this they replied that Anaya had never consented '\n",
      "                        'to the sale of their Valley and had never received '\n",
      "                        'pay for it the other Chief they said had no right to '\n",
      "                        'sell their territory',\n",
      " '289-121665-0037.wav': 'and after pondering the matter for a time she became '\n",
      "                        'discouraged and thinking she was no better off than '\n",
      "                        'before the tales were found she began to weep and to '\n",
      "                        'bewail her Misfortune but amidst her tears she '\n",
      "                        'thought herself of her needle and thread',\n",
      " '322-124147-0003.wav': 'mr. Collins was also in the same stage of angry Pride '\n",
      "                        'Elizabeth had hoped that his resentment might shorten '\n",
      "                        'his visit with his plan did not appear in the least '\n",
      "                        'affected by it he was always to have going on '\n",
      "                        'Saturday',\n",
      " '3857-180923-0011.wav': 'at the time of his death in 1897 he was Electra in '\n",
      "                         'the Yale law school and member of the Supreme Court '\n",
      "                         'of errors',\n",
      " '5652-39938-0036.wav': 'the patient must be brought under conditions and '\n",
      "                        'influences which give are chances for the '\n",
      "                        'recuperation of his energies to often from the '\n",
      "                        'standpoint of the psychologist the prescription is '\n",
      "                        'simply rest',\n",
      " '6295-64301-0008.wav': 'the nettle on the doc said Joseph',\n",
      " '6925-80680-0069.wav': 'how do you think our princess is looking now very '\n",
      "                        'fine no doubt crumble duperret but what is the use of '\n",
      "                        'dressing up like that for oneself only she have to '\n",
      "                        \"have a husband why doesn't she marry the man who got \"\n",
      "                        'her all these Splendid things'}\n"
     ]
    }
   ],
   "source": [
    "#save_results(results)\n",
    "pprint(results)"
   ]
  }
 ],
 "metadata": {
  "kernelspec": {
   "display_name": "intern",
   "language": "python",
   "name": "intern"
  },
  "language_info": {
   "codemirror_mode": {
    "name": "ipython",
    "version": 3
   },
   "file_extension": ".py",
   "mimetype": "text/x-python",
   "name": "python",
   "nbconvert_exporter": "python",
   "pygments_lexer": "ipython3",
   "version": "3.8.5"
  }
 },
 "nbformat": 4,
 "nbformat_minor": 5
}
